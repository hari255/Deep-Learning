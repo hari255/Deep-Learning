{
  "cells": [
    {
      "cell_type": "markdown",
      "metadata": {
        "id": "Q91KqmCRu64D"
      },
      "source": [
        "# **Deep Learning Project: Street View Housing Number Digit Recognition**\n",
        "\n",
        "# **Marks: 60**\n",
        "\n",
        "--------------\n",
        "## **Context** \n",
        "--------------\n",
        "\n",
        "One of the most interesting tasks in deep learning is to recognize objects in natural scenes. The ability to process visual information using machine learning algorithms can be very useful as demonstrated in various applications.\n",
        "\n",
        "The SVHN dataset contains over 600,000 labeled digits cropped from street-level photos. It is one of the most popular image recognition datasets. It has been used in neural networks created by Google to improve the map quality by automatically transcribing the address numbers from a patch of pixels. The transcribed number with a known street address helps pinpoint the location of the building it represents. \n",
        "\n",
        "----------------\n",
        "## **Objective**\n",
        "----------------\n",
        "\n",
        "Our objective is to predict the number depicted inside the image by using Artificial or Fully Connected Feed Forward Neural Networks and Convolutional Neural Networks. We will go through various models of each and finally select the one that is giving us the best performance. \n",
        "\n",
        "-------------\n",
        "## **Dataset**\n",
        "-------------\n",
        "Here, we will use a subset of the original data to save some computation time. The dataset is provided as a .h5 file. The basic preprocessing steps have been applied on the dataset."
      ]
    },
    {
      "cell_type": "markdown",
      "metadata": {
        "id": "8z2Z7-OAs8QG"
      },
      "source": [
        "## **Mount the drive**\n",
        "\n",
        "Let us start by mounting the Google drive. You can run the below cell to mount the Google drive."
      ]
    },
    {
      "cell_type": "code",
      "execution_count": 3,
      "metadata": {
        "id": "03lDyQUuef7z",
        "colab": {
          "base_uri": "https://localhost:8080/"
        },
        "outputId": "79d106a1-6c1a-4003-92ed-89ac4fb0f475"
      },
      "outputs": [
        {
          "output_type": "stream",
          "name": "stdout",
          "text": [
            "Mounted at /content/drive\n"
          ]
        }
      ],
      "source": [
        "from google.colab import drive\n",
        "\n",
        "drive.mount('/content/drive')"
      ]
    },
    {
      "cell_type": "markdown",
      "metadata": {
        "id": "C8U3DUa3eNsT"
      },
      "source": [
        "## **Importing the necessary libraries**"
      ]
    },
    {
      "cell_type": "code",
      "execution_count": 4,
      "metadata": {
        "id": "-dVzeuF3eQx1"
      },
      "outputs": [],
      "source": [
        "import numpy as np\n",
        "\n",
        "import pandas as pd\n",
        "\n",
        "import matplotlib.pyplot as plt\n",
        "\n",
        "import seaborn as sns\n",
        "\n",
        "from sklearn.model_selection import train_test_split\n",
        "\n",
        "from sklearn.preprocessing import MinMaxScaler\n",
        "\n",
        "import tensorflow as tf\n",
        "\n",
        "from tensorflow.keras.models import Sequential\n",
        "\n",
        "from tensorflow.keras.layers import Dense, Input, Dropout, GlobalAveragePooling2D, LeakyReLU, Flatten, Conv2D, BatchNormalization, Activation, MaxPooling2D\n",
        "\n",
        "from tensorflow.keras.losses import categorical_crossentropy\n",
        "\n",
        "from tensorflow.keras.optimizers import Adam\n",
        "\n",
        "from tensorflow.keras.utils import to_categorical"
      ]
    },
    {
      "cell_type": "markdown",
      "metadata": {
        "id": "ucnevGLoyKf_"
      },
      "source": [
        "**Let us check the version of tensorflow.**"
      ]
    },
    {
      "cell_type": "code",
      "execution_count": 5,
      "metadata": {
        "id": "W5as47YxyJVk",
        "colab": {
          "base_uri": "https://localhost:8080/"
        },
        "outputId": "6a668ebe-e75f-47dd-eea6-1092afa4f901"
      },
      "outputs": [
        {
          "output_type": "stream",
          "name": "stdout",
          "text": [
            "2.12.0\n"
          ]
        }
      ],
      "source": [
        "print(tf.__version__)"
      ]
    },
    {
      "cell_type": "markdown",
      "metadata": {
        "id": "8lsux2ZwyTTR"
      },
      "source": [
        "## **Load the dataset**\n",
        "\n",
        "- Let us now load the dataset that is available as a .h5 file.\n",
        "- Split the data into the train and the test dataset."
      ]
    },
    {
      "cell_type": "code",
      "execution_count": 6,
      "metadata": {
        "id": "BApX9qgNsqV0",
        "scrolled": true
      },
      "outputs": [],
      "source": [
        "import h5py\n",
        "\n",
        "# Open the file as read only\n",
        "# User can make changes in the path as required\n",
        "\n",
        "h5f = h5py.File('/content/drive/MyDrive/SVHN_single_grey1.h5', 'r')\n",
        "\n",
        "# Load the training and the test dataset\n",
        "\n",
        "X_train = h5f['X_train'][:]\n",
        "\n",
        "y_train = h5f['y_train'][:]\n",
        "\n",
        "X_test = h5f['X_test'][:]\n",
        "y_test = h5f['y_test'][:]\n",
        "\n",
        "\n",
        "# Close this file\n",
        "\n",
        "h5f.close()"
      ]
    },
    {
      "cell_type": "markdown",
      "metadata": {
        "id": "hVe0CYpUgj7w"
      },
      "source": [
        "Check the number of images in the training and the testing dataset."
      ]
    },
    {
      "cell_type": "code",
      "execution_count": 7,
      "metadata": {
        "id": "y3lwKpOefkpA",
        "colab": {
          "base_uri": "https://localhost:8080/"
        },
        "outputId": "13c5134a-731a-4cd0-e136-fd00bb7e5e15"
      },
      "outputs": [
        {
          "output_type": "execute_result",
          "data": {
            "text/plain": [
              "(42000, 18000)"
            ]
          },
          "metadata": {},
          "execution_count": 7
        }
      ],
      "source": [
        "# the number of the training and testing samples\n",
        "\n",
        "\n",
        "len(X_train), len(X_test)"
      ]
    },
    {
      "cell_type": "markdown",
      "metadata": {
        "id": "akTUOfLlgwoM"
      },
      "source": [
        "**Observation:**\n",
        "\n",
        "The number of training and tesing images are 42000 and 18000 respectively."
      ]
    },
    {
      "cell_type": "markdown",
      "metadata": {
        "id": "kxODV6HKykuc"
      },
      "source": [
        "## **Visualizing images**\n",
        "\n",
        "- Use X_train to visualize the first 10 images.\n",
        "- Use Y_train to print the first 10 labels."
      ]
    },
    {
      "cell_type": "code",
      "execution_count": 8,
      "metadata": {
        "id": "Bvsc8ytHsqWD",
        "colab": {
          "base_uri": "https://localhost:8080/",
          "height": 120
        },
        "outputId": "08d25b7c-d26b-4ac9-c63e-44456cf15324"
      },
      "outputs": [
        {
          "output_type": "display_data",
          "data": {
            "text/plain": [
              "<Figure size 1000x100 with 5 Axes>"
            ],
            "image/png": "[encoded data removed]"
          },
          "metadata": {}
        },
        {
          "output_type": "stream",
          "name": "stdout",
          "text": [
            "label for each of the above image: [2 6 7 4 4 0 3 0 7 3]\n"
          ]
        }
      ],
      "source": [
        "# let's display the firsdt 5 images from the data set \n",
        "plt.figure(figsize = (10, 1))\n",
        "\n",
        "for i in range(5):\n",
        "\n",
        "    plt.subplot(1, 10, i+1)\n",
        "\n",
        "    plt.imshow(X_train[i], cmap = \"gray\")\n",
        "\n",
        "    plt.axis('off')\n",
        "\n",
        "plt.show()\n",
        "\n",
        "print('label for each of the above image: %s' % (y_train[0:10]))"
      ]
    },
    {
      "cell_type": "markdown",
      "metadata": {
        "id": "kzoyeXHOy80N"
      },
      "source": [
        "## **Data preparation**\n",
        "\n",
        "- Print the shape and the array of pixels for the first image in the training dataset.\n",
        "- Normalize the train and the test dataset by dividing by 255.\n",
        "- Print the new shapes of the train and the test dataset.\n",
        "- One-hot encode the target variable."
      ]
    },
    {
      "cell_type": "code",
      "execution_count": 9,
      "metadata": {
        "id": "NqndzQXng9rL",
        "colab": {
          "base_uri": "https://localhost:8080/"
        },
        "outputId": "1ec29b1c-bc1c-4bfd-f651-53efaae312cf"
      },
      "outputs": [
        {
          "output_type": "stream",
          "name": "stdout",
          "text": [
            "Shape: (32, 32)\n",
            "First image:\n",
            " [[ 33.0704  30.2601  26.852  ...  71.4471  58.2204  42.9939]\n",
            " [ 25.2283  25.5533  29.9765 ... 113.0209 103.3639  84.2949]\n",
            " [ 26.2775  22.6137  40.4763 ... 113.3028 121.775  115.4228]\n",
            " ...\n",
            " [ 28.5502  36.212   45.0801 ...  24.1359  25.0927  26.0603]\n",
            " [ 38.4352  26.4733  23.2717 ...  28.1094  29.4683  30.0661]\n",
            " [ 50.2984  26.0773  24.0389 ...  49.6682  50.853   53.0377]]\n"
          ]
        }
      ],
      "source": [
        "print(\"Shape:\", X_train[0].shape) # Printing the shape of first image\n",
        "\n",
        "print(\"First image:\\n\", X_train[0]) # looking at the pixels of the first image|"
      ]
    },
    {
      "cell_type": "code",
      "source": [
        "\n",
        "X_train = X_train.reshape(X_train.shape[0], 1024) # reshaping training images into a 1D array\n",
        "\n",
        "X_test = X_test.reshape(X_test.shape[0], 1024)  # reshaping testing images into a 1D array\n",
        "\n",
        "X_train.shape, X_test.shape"
      ],
      "metadata": {
        "colab": {
          "base_uri": "https://localhost:8080/"
        },
        "id": "qXQT-ulKbaa0",
        "outputId": "4a59e99b-3b40-413e-d2d0-8ad32b26d6fd"
      },
      "execution_count": 10,
      "outputs": [
        {
          "output_type": "execute_result",
          "data": {
            "text/plain": [
              "((42000, 1024), (18000, 1024))"
            ]
          },
          "metadata": {},
          "execution_count": 10
        }
      ]
    },
    {
      "cell_type": "code",
      "source": [
        "X_train[0]"
      ],
      "metadata": {
        "colab": {
          "base_uri": "https://localhost:8080/"
        },
        "id": "Fjq8XSfxbbsL",
        "outputId": "9e23c3fd-c67c-43bd-efa0-5920699d99e6"
      },
      "execution_count": 11,
      "outputs": [
        {
          "output_type": "execute_result",
          "data": {
            "text/plain": [
              "array([33.0704, 30.2601, 26.852 , ..., 49.6682, 50.853 , 53.0377],\n",
              "      dtype=float32)"
            ]
          },
          "metadata": {},
          "execution_count": 11
        }
      ]
    },
    {
      "cell_type": "markdown",
      "metadata": {
        "id": "f4CQkKtQ0XII"
      },
      "source": [
        "### **Normalize the train and the test data**"
      ]
    },
    {
      "cell_type": "code",
      "execution_count": 12,
      "metadata": {
        "id": "q_yUUTp_mUzB"
      },
      "outputs": [],
      "source": [
        "# normalizing the data would help our model to learn the parametrs quickly and helps us in bringing down the computation time\n",
        "X_train = X_train/255.0\n",
        "X_test = X_test/255.0"
      ]
    },
    {
      "cell_type": "markdown",
      "metadata": {
        "id": "YSlYN6pb8kMY"
      },
      "source": [
        "Print the shapes of Training and Test data"
      ]
    },
    {
      "cell_type": "code",
      "execution_count": 13,
      "metadata": {
        "id": "t7FSqOpamWkH",
        "colab": {
          "base_uri": "https://localhost:8080/"
        },
        "outputId": "421bb09d-e710-4a79-c0cf-9c845fd412c7"
      },
      "outputs": [
        {
          "output_type": "execute_result",
          "data": {
            "text/plain": [
              "((1024,), (1024,))"
            ]
          },
          "metadata": {},
          "execution_count": 13
        }
      ],
      "source": [
        "X_train[0].shape, X_test[0].shape"
      ]
    },
    {
      "cell_type": "code",
      "source": [
        "X_train[0] # now, every pixel value is normalized to a value btw 0 and 1"
      ],
      "metadata": {
        "colab": {
          "base_uri": "https://localhost:8080/"
        },
        "id": "fyO0BJcxvpsA",
        "outputId": "7a3b64d0-6ac8-49af-da31-292bf3577fe4"
      },
      "execution_count": 14,
      "outputs": [
        {
          "output_type": "execute_result",
          "data": {
            "text/plain": [
              "array([0.12968785, 0.11866706, 0.10530196, ..., 0.19477727, 0.19942354,\n",
              "       0.20799099], dtype=float32)"
            ]
          },
          "metadata": {},
          "execution_count": 14
        }
      ]
    },
    {
      "cell_type": "markdown",
      "metadata": {
        "id": "0uLxXBpz81vk"
      },
      "source": [
        "### **One-hot encode output**"
      ]
    },
    {
      "cell_type": "code",
      "execution_count": 15,
      "metadata": {
        "id": "zL0lYER4sqWw",
        "colab": {
          "base_uri": "https://localhost:8080/"
        },
        "outputId": "36a4ae5d-61f0-4e6f-a20d-1a2c0beef55c"
      },
      "outputs": [
        {
          "output_type": "execute_result",
          "data": {
            "text/plain": [
              "array([[0., 1., 0., ..., 0., 0., 0.],\n",
              "       [0., 0., 0., ..., 1., 0., 0.],\n",
              "       [0., 0., 1., ..., 0., 0., 0.],\n",
              "       ...,\n",
              "       [0., 0., 0., ..., 1., 0., 0.],\n",
              "       [0., 0., 0., ..., 0., 0., 1.],\n",
              "       [0., 0., 1., ..., 0., 0., 0.]], dtype=float32)"
            ]
          },
          "metadata": {},
          "execution_count": 15
        }
      ],
      "source": [
        "# One-hot encode output\n",
        "\n",
        "y_train = to_categorical(y_train)\n",
        "\n",
        "y_test = to_categorical(y_test)\n",
        "\n",
        "# Test labels\n",
        "\n",
        "y_test"
      ]
    },
    {
      "cell_type": "markdown",
      "metadata": {
        "id": "ViqPOTquCF76"
      },
      "source": [
        "**Observation:**\n"
      ]
    },
    {
      "cell_type": "markdown",
      "metadata": {
        "id": "yH-gVrzuByNA"
      },
      "source": [
        "## **Model Building**\n",
        "\n",
        "Now that we have done the data preprocessing, let's build an ANN model.\n",
        "\n",
        "### Fix the seed for random number generators"
      ]
    },
    {
      "cell_type": "code",
      "execution_count": 16,
      "metadata": {
        "id": "BcKRwrGn0XIL"
      },
      "outputs": [],
      "source": [
        "np.random.seed(42)\n",
        "\n",
        "import random\n",
        "\n",
        "random.seed(42)\n",
        "\n",
        "tf.random.set_seed(42)"
      ]
    },
    {
      "cell_type": "markdown",
      "metadata": {
        "id": "UJDUoaEj1d6e"
      },
      "source": [
        "### **Model Architecture**\n",
        "- Write a function that returns a sequential model with the following architecture:\n",
        " - First hidden layer with **64 nodes and the relu activation** and the **input shape = (1024, )**\n",
        " - Second hidden layer with **32 nodes and the relu activation**\n",
        " - Output layer with **activation as 'softmax' and number of nodes equal to the number of classes, i.e., 10**\n",
        " - Compile the model with the **loss equal to categorical_crossentropy, optimizer equal to Adam(learning_rate = 0.001), and metric equal to 'accuracy'**. Do not fit the model here, just return the compiled model.\n",
        "- Call the nn_model_1 function and store the model in a new variable. \n",
        "- Print the summary of the model.\n",
        "- Fit on the train data with a **validation split of 0.2, batch size = 128, verbose = 1, and epochs = 20**. Store the model building history to use later for visualization."
      ]
    },
    {
      "cell_type": "markdown",
      "metadata": {
        "id": "A48z6ucF0XIP"
      },
      "source": [
        "### **Build and train an ANN model as per the above mentioned architecture.**"
      ]
    },
    {
      "cell_type": "code",
      "execution_count": 17,
      "metadata": {
        "id": "Cmi81Gr5sqW-"
      },
      "outputs": [],
      "source": [
        "def nn_model_1():\n",
        "\n",
        "    model = Sequential() \n",
        "    model.add(Flatten(input_shape = (1024,)))\n",
        "    model.add(Dense(62, activation = 'relu'))\n",
        "    model.add(Dense(32, activation = 'relu'))\n",
        "    model.add(Dense(10, activation = 'softmax'))\n",
        "      \n",
        "    \n",
        "    optimizer = tf.keras.optimizers.legacy.Adam(0.001) # creating a optimizer object for flexibility to provide the learning rate\n",
        "\n",
        "    model.compile(optimizer = optimizer, loss = 'categorical_crossentropy',  metrics = ['accuracy']) # compiling the model\n",
        "    \n",
        "    return model"
      ]
    },
    {
      "cell_type": "code",
      "source": [
        "## Building the  model\n",
        "model_1 = nn_model_1()\n",
        "\n",
        "## summary of the model\n",
        "\n",
        "model_1.summary()"
      ],
      "metadata": {
        "colab": {
          "base_uri": "https://localhost:8080/"
        },
        "id": "ceu1pHw7cYcK",
        "outputId": "b67e3a25-9999-4e82-a7f0-508ae218ada9"
      },
      "execution_count": 18,
      "outputs": [
        {
          "output_type": "stream",
          "name": "stdout",
          "text": [
            "Model: \"sequential\"\n",
            "_________________________________________________________________\n",
            " Layer (type)                Output Shape              Param #   \n",
            "=================================================================\n",
            " flatten (Flatten)           (None, 1024)              0         \n",
            "                                                                 \n",
            " dense (Dense)               (None, 62)                63550     \n",
            "                                                                 \n",
            " dense_1 (Dense)             (None, 32)                2016      \n",
            "                                                                 \n",
            " dense_2 (Dense)             (None, 10)                330       \n",
            "                                                                 \n",
            "=================================================================\n",
            "Total params: 65,896\n",
            "Trainable params: 65,896\n",
            "Non-trainable params: 0\n",
            "_________________________________________________________________\n"
          ]
        }
      ]
    },
    {
      "cell_type": "code",
      "source": [
        "## Fitting the model\n",
        "\n",
        "\n",
        "history_model_1 = model_1.fit(X_train, y_train, validation_split= 0.2, epochs =20, batch_size=128, verbose=1)"
      ],
      "metadata": {
        "colab": {
          "base_uri": "https://localhost:8080/"
        },
        "id": "NIbkBlPIcYfB",
        "outputId": "e1a75794-f355-4c4a-8adf-e84d546952ee"
      },
      "execution_count": 19,
      "outputs": [
        {
          "output_type": "stream",
          "name": "stdout",
          "text": [
            "Epoch 1/20\n",
            "263/263 [==============================] - 3s 8ms/step - loss: 2.2897 - accuracy: 0.1227 - val_loss: 2.2436 - val_accuracy: 0.1740\n",
            "Epoch 2/20\n",
            "263/263 [==============================] - 1s 5ms/step - loss: 2.0590 - accuracy: 0.2387 - val_loss: 1.8913 - val_accuracy: 0.3196\n",
            "Epoch 3/20\n",
            "263/263 [==============================] - 1s 4ms/step - loss: 1.8223 - accuracy: 0.3461 - val_loss: 1.7205 - val_accuracy: 0.3868\n",
            "Epoch 4/20\n",
            "263/263 [==============================] - 1s 4ms/step - loss: 1.6794 - accuracy: 0.4120 - val_loss: 1.6160 - val_accuracy: 0.4393\n",
            "Epoch 5/20\n",
            "263/263 [==============================] - 1s 4ms/step - loss: 1.5871 - accuracy: 0.4507 - val_loss: 1.5344 - val_accuracy: 0.4771\n",
            "Epoch 6/20\n",
            "263/263 [==============================] - 1s 4ms/step - loss: 1.5219 - accuracy: 0.4835 - val_loss: 1.4928 - val_accuracy: 0.4964\n",
            "Epoch 7/20\n",
            "263/263 [==============================] - 1s 4ms/step - loss: 1.4704 - accuracy: 0.5074 - val_loss: 1.4400 - val_accuracy: 0.5232\n",
            "Epoch 8/20\n",
            "263/263 [==============================] - 1s 4ms/step - loss: 1.4291 - accuracy: 0.5258 - val_loss: 1.4205 - val_accuracy: 0.5383\n",
            "Epoch 9/20\n",
            "263/263 [==============================] - 1s 4ms/step - loss: 1.3798 - accuracy: 0.5498 - val_loss: 1.3607 - val_accuracy: 0.5580\n",
            "Epoch 10/20\n",
            "263/263 [==============================] - 1s 4ms/step - loss: 1.3466 - accuracy: 0.5614 - val_loss: 1.3429 - val_accuracy: 0.5696\n",
            "Epoch 11/20\n",
            "263/263 [==============================] - 1s 4ms/step - loss: 1.3133 - accuracy: 0.5755 - val_loss: 1.3193 - val_accuracy: 0.5714\n",
            "Epoch 12/20\n",
            "263/263 [==============================] - 1s 4ms/step - loss: 1.2860 - accuracy: 0.5871 - val_loss: 1.2833 - val_accuracy: 0.5893\n",
            "Epoch 13/20\n",
            "263/263 [==============================] - 2s 6ms/step - loss: 1.2641 - accuracy: 0.5954 - val_loss: 1.2537 - val_accuracy: 0.6039\n",
            "Epoch 14/20\n",
            "263/263 [==============================] - 2s 6ms/step - loss: 1.2415 - accuracy: 0.6040 - val_loss: 1.2222 - val_accuracy: 0.6187\n",
            "Epoch 15/20\n",
            "263/263 [==============================] - 2s 7ms/step - loss: 1.2284 - accuracy: 0.6093 - val_loss: 1.2350 - val_accuracy: 0.6110\n",
            "Epoch 16/20\n",
            "263/263 [==============================] - 1s 5ms/step - loss: 1.2103 - accuracy: 0.6175 - val_loss: 1.2620 - val_accuracy: 0.5965\n",
            "Epoch 17/20\n",
            "263/263 [==============================] - 2s 6ms/step - loss: 1.1983 - accuracy: 0.6216 - val_loss: 1.2113 - val_accuracy: 0.6218\n",
            "Epoch 18/20\n",
            "263/263 [==============================] - 2s 6ms/step - loss: 1.1895 - accuracy: 0.6241 - val_loss: 1.2102 - val_accuracy: 0.6211\n",
            "Epoch 19/20\n",
            "263/263 [==============================] - 2s 6ms/step - loss: 1.1768 - accuracy: 0.6305 - val_loss: 1.1831 - val_accuracy: 0.6288\n",
            "Epoch 20/20\n",
            "263/263 [==============================] - 1s 4ms/step - loss: 1.1699 - accuracy: 0.6341 - val_loss: 1.1833 - val_accuracy: 0.6339\n"
          ]
        }
      ]
    },
    {
      "cell_type": "code",
      "source": [
        "## Evaluating the model \n",
        "loss_and_metrics = model_1.evaluate(X_test, y_test)\n",
        "loss_and_metrics ## Printing the loss and accuracy of the model\n"
      ],
      "metadata": {
        "colab": {
          "base_uri": "https://localhost:8080/"
        },
        "id": "hFoQVm1ml31t",
        "outputId": "5f121725-21d9-41b2-f9d1-9584bea365da"
      },
      "execution_count": 20,
      "outputs": [
        {
          "output_type": "stream",
          "name": "stdout",
          "text": [
            "563/563 [==============================] - 1s 2ms/step - loss: 1.1758 - accuracy: 0.6364\n"
          ]
        },
        {
          "output_type": "execute_result",
          "data": {
            "text/plain": [
              "[1.1757533550262451, 0.636388897895813]"
            ]
          },
          "metadata": {},
          "execution_count": 20
        }
      ]
    },
    {
      "cell_type": "markdown",
      "source": [
        "model yeilds us the accuracy of 63% and a model loss of 1.1.7"
      ],
      "metadata": {
        "id": "6OPVX8oyuLEK"
      }
    },
    {
      "cell_type": "code",
      "source": [
        "classes = model_1.predict(X_test, batch_size=128)\n",
        "classes.shape"
      ],
      "metadata": {
        "colab": {
          "base_uri": "https://localhost:8080/"
        },
        "id": "7g2BPLMal34u",
        "outputId": "b118d17f-63bc-4bdd-c693-302d70502f01"
      },
      "execution_count": 59,
      "outputs": [
        {
          "metadata": {
            "tags": null
          },
          "name": "stdout",
          "output_type": "stream",
          "text": [
            "141/141 [==============================] - 0s 2ms/step\n"
          ]
        },
        {
          "data": {
            "text/plain": [
              "(18000, 10)"
            ]
          },
          "execution_count": 59,
          "metadata": {},
          "output_type": "execute_result"
        }
      ]
    },
    {
      "cell_type": "markdown",
      "metadata": {
        "id": "MeF8XSWz0XIU"
      },
      "source": [
        "### **Plot the Training and Validation Accuracies and write down your Observations.**"
      ]
    },
    {
      "cell_type": "code",
      "execution_count": 22,
      "metadata": {
        "id": "lt77zgGMP4yw",
        "colab": {
          "base_uri": "https://localhost:8080/",
          "height": 472
        },
        "outputId": "a6016e2f-742f-4184-fbad-c399c263719d"
      },
      "outputs": [
        {
          "output_type": "display_data",
          "data": {
            "text/plain": [
              "<Figure size 640x480 with 1 Axes>"
            ],
            "image/png": "[encoded data removed]"
          },
          "metadata": {}
        }
      ],
      "source": [
        "#summarizing hiostry for Accuracy\n",
        "plt.plot(history_model_1.history['accuracy'])\n",
        "plt.plot(history_model_1.history['val_accuracy'])\n",
        "plt.title('model accuracy')\n",
        "plt.ylabel('accuracy')\n",
        "plt.xlabel('epoch')\n",
        "plt.legend(['train', 'test'], loc='upper left')\n",
        "plt.show()"
      ]
    },
    {
      "cell_type": "code",
      "source": [
        "#summarizing hiostry for loss\n",
        "\n",
        "plt.plot(history_model_1.history['loss'])\n",
        "plt.plot(history_model_1.history['val_loss'])\n",
        "plt.title('model loss')\n",
        "plt.ylabel('loss')\n",
        "plt.xlabel('epoch')\n",
        "plt.legend(['train', 'test'], loc='upper left')\n",
        "plt.show()"
      ],
      "metadata": {
        "colab": {
          "base_uri": "https://localhost:8080/",
          "height": 472
        },
        "id": "vngYbltKmAd1",
        "outputId": "871a75f8-bdb4-4730-f146-df0c5bfe3800"
      },
      "execution_count": 23,
      "outputs": [
        {
          "output_type": "display_data",
          "data": {
            "text/plain": [
              "<Figure size 640x480 with 1 Axes>"
            ],
            "image/png": "[encoded data removed]"
          },
          "metadata": {}
        }
      ]
    },
    {
      "cell_type": "markdown",
      "metadata": {
        "id": "pGBbQpLONX7k"
      },
      "source": [
        "**Observations:**\n",
        "From the plot of the accuracy, you can see that the model could probably be trained a little more as the trend for accuracy on both datasets is still rising for the last few epochs, but that's not a significant growth. You can also see that the model has not yet over-learned the training dataset, showing comparable results on both datasets..\n",
        "\n",
        "\n",
        "From the plot of the loss, we can see that the loss for testing is almost same as that of training.\n",
        "\n",
        "From above plots we can say that the model has no significant improvement with the existing parameters after 15 epochs.\n"
      ]
    },
    {
      "cell_type": "markdown",
      "metadata": {
        "id": "z0qgLMBZm5-K"
      },
      "source": [
        "Let's build one more model with higher complexity and see if we can improve the performance of the model. \n",
        "\n",
        "First, we need to clear the previous model's history from the Keras backend. Also, let's fix the seed again after clearing the backend."
      ]
    },
    {
      "cell_type": "code",
      "execution_count": 24,
      "metadata": {
        "id": "I_ih3wEU9wIk"
      },
      "outputs": [],
      "source": [
        "# Clearing backend\n",
        "\n",
        "from tensorflow.keras import backend\n",
        "\n",
        "backend.clear_session()"
      ]
    },
    {
      "cell_type": "code",
      "source": [
        "# Fixing the seed for random number generators\n",
        "\n",
        "np.random.seed(42)\n",
        "\n",
        "import random\n",
        "\n",
        "random.seed(42)\n",
        "\n",
        "tf.random.set_seed(42)"
      ],
      "metadata": {
        "id": "9Uwmfy9cmPGJ"
      },
      "execution_count": 25,
      "outputs": []
    },
    {
      "cell_type": "markdown",
      "metadata": {
        "id": "lT6o3TIKuCtk"
      },
      "source": [
        "### **Second Model Architecture**\n",
        "- Write a function that returns a sequential model with the following architecture:\n",
        " - First hidden layer with **256 nodes and the relu activation** and the **input shape = (1024, )**\n",
        " - Second hidden layer with **128 nodes and the relu activation**\n",
        " - Add the **Dropout layer with the rate equal to 0.2**\n",
        " - Third hidden layer with **64 nodes and the relu activation**\n",
        " - Fourth hidden layer with **64 nodes and the relu activation**\n",
        " - Fifth hidden layer with **32 nodes and the relu activation**\n",
        " - Add the **BatchNormalization layer**\n",
        " - Output layer with **activation as 'softmax' and number of nodes equal to the number of classes, i.e., 10**\n",
        " -Compile the model with the **loss equal to categorical_crossentropy, optimizer equal to Adam(learning_rate = 0.0005), and metric equal to 'accuracy'**. Do not fit the model here, just return the compiled model.\n",
        "- Call the nn_model_2 function and store the model in a new variable.\n",
        "- Print the summary of the model.\n",
        "- Fit on the train data with a **validation split of 0.2, batch size = 128, verbose = 1, and epochs = 30**. Store the model building history to use later for visualization."
      ]
    },
    {
      "cell_type": "markdown",
      "metadata": {
        "id": "f-ZjNBmH0XIV"
      },
      "source": [
        "### **Build and train the new ANN model as per the above mentioned architecture**"
      ]
    },
    {
      "cell_type": "code",
      "execution_count": 26,
      "metadata": {
        "id": "EEPYLFIPnSDP"
      },
      "outputs": [],
      "source": [
        "# Defining the model\n",
        "\n",
        "def nn_model_2():\n",
        "\n",
        "    model = Sequential()  \n",
        "    \n",
        "    # Add layers as per the architecture mentioned above in the same sequence\n",
        "    \n",
        "    model.add((Flatten(input_shape = (1024,)))) ## adding flatten layer at the beginning, since ANN require data in 1D \n",
        "\n",
        "    model.add(Dense(256, activation = 'relu'))\n",
        "\n",
        "    model.add(Dense(128, activation = 'relu'))\n",
        "\n",
        "    model.add(Dropout(.2))\n",
        "\n",
        "    model.add(Dense(64, activation = 'relu'))\n",
        "\n",
        "    model.add(Dense(64, activation = 'relu'))\n",
        "\n",
        "    model.add(Dense(32, activation = 'relu'))\n",
        "\n",
        "    model.add(BatchNormalization(synchronized=True))\n",
        "\n",
        "    model.add(Dense(10, activation = 'softmax'))\n",
        "\n",
        "    # Compile the model\n",
        "    optimizer = tf.keras.optimizers.legacy.Adam(0.0005)\n",
        "    model.compile(optimizer = optimizer, loss = 'categorical_crossentropy',  metrics = ['accuracy'])\n",
        "    \n",
        "    return model"
      ]
    },
    {
      "cell_type": "markdown",
      "metadata": {
        "id": "ZJYsvjmw0XIX"
      },
      "source": [
        "### **Plot the Training and Validation Accuracies and write down your Observations.**"
      ]
    },
    {
      "cell_type": "code",
      "execution_count": 27,
      "metadata": {
        "id": "01ig6BrF1KVy",
        "colab": {
          "base_uri": "https://localhost:8080/"
        },
        "outputId": "0d8bb6ec-b185-4af0-ba15-8591167fb7da"
      },
      "outputs": [
        {
          "output_type": "stream",
          "name": "stdout",
          "text": [
            "Model: \"sequential\"\n",
            "_________________________________________________________________\n",
            " Layer (type)                Output Shape              Param #   \n",
            "=================================================================\n",
            " flatten (Flatten)           (None, 1024)              0         \n",
            "                                                                 \n",
            " dense (Dense)               (None, 256)               262400    \n",
            "                                                                 \n",
            " dense_1 (Dense)             (None, 128)               32896     \n",
            "                                                                 \n",
            " dropout (Dropout)           (None, 128)               0         \n",
            "                                                                 \n",
            " dense_2 (Dense)             (None, 64)                8256      \n",
            "                                                                 \n",
            " dense_3 (Dense)             (None, 64)                4160      \n",
            "                                                                 \n",
            " dense_4 (Dense)             (None, 32)                2080      \n",
            "                                                                 \n",
            " batch_normalization (BatchN  (None, 32)               128       \n",
            " ormalization)                                                   \n",
            "                                                                 \n",
            " dense_5 (Dense)             (None, 10)                330       \n",
            "                                                                 \n",
            "=================================================================\n",
            "Total params: 310,250\n",
            "Trainable params: 310,186\n",
            "Non-trainable params: 64\n",
            "_________________________________________________________________\n"
          ]
        }
      ],
      "source": [
        "model_2 = nn_model_2()\n",
        "model_2.summary()"
      ]
    },
    {
      "cell_type": "markdown",
      "source": [
        "this model has 64 non-trainable parameters"
      ],
      "metadata": {
        "id": "D_O4pgyv0OJc"
      }
    },
    {
      "cell_type": "code",
      "source": [
        "history_model_2 = model_2.fit(X_train, y_train, validation_split= 0.2, epochs =30, batch_size=128, verbose=1)"
      ],
      "metadata": {
        "colab": {
          "base_uri": "https://localhost:8080/"
        },
        "id": "i_Mcganzma7X",
        "outputId": "7ee3630c-3fd5-4995-ae1c-222892add979"
      },
      "execution_count": 28,
      "outputs": [
        {
          "output_type": "stream",
          "name": "stdout",
          "text": [
            "Epoch 1/30\n",
            "263/263 [==============================] - 5s 14ms/step - loss: 2.3265 - accuracy: 0.1014 - val_loss: 2.3046 - val_accuracy: 0.1008\n",
            "Epoch 2/30\n",
            "263/263 [==============================] - 3s 12ms/step - loss: 2.2235 - accuracy: 0.1466 - val_loss: 2.1167 - val_accuracy: 0.2189\n",
            "Epoch 3/30\n",
            "263/263 [==============================] - 2s 9ms/step - loss: 1.7290 - accuracy: 0.3885 - val_loss: 1.5462 - val_accuracy: 0.5314\n",
            "Epoch 4/30\n",
            "263/263 [==============================] - 3s 11ms/step - loss: 1.3757 - accuracy: 0.5406 - val_loss: 1.2332 - val_accuracy: 0.5964\n",
            "Epoch 5/30\n",
            "263/263 [==============================] - 4s 16ms/step - loss: 1.2412 - accuracy: 0.5929 - val_loss: 1.1096 - val_accuracy: 0.6399\n",
            "Epoch 6/30\n",
            "263/263 [==============================] - 5s 21ms/step - loss: 1.1643 - accuracy: 0.6212 - val_loss: 1.1201 - val_accuracy: 0.6283\n",
            "Epoch 7/30\n",
            "263/263 [==============================] - 4s 16ms/step - loss: 1.1079 - accuracy: 0.6431 - val_loss: 1.1081 - val_accuracy: 0.6429\n",
            "Epoch 8/30\n",
            "263/263 [==============================] - 4s 13ms/step - loss: 1.0629 - accuracy: 0.6576 - val_loss: 0.9930 - val_accuracy: 0.6833\n",
            "Epoch 9/30\n",
            "263/263 [==============================] - 4s 15ms/step - loss: 1.0220 - accuracy: 0.6735 - val_loss: 0.9595 - val_accuracy: 0.6971\n",
            "Epoch 10/30\n",
            "263/263 [==============================] - 5s 20ms/step - loss: 0.9975 - accuracy: 0.6780 - val_loss: 0.9825 - val_accuracy: 0.6899\n",
            "Epoch 11/30\n",
            "263/263 [==============================] - 4s 16ms/step - loss: 0.9614 - accuracy: 0.6972 - val_loss: 0.9688 - val_accuracy: 0.6914\n",
            "Epoch 12/30\n",
            "263/263 [==============================] - 3s 11ms/step - loss: 0.9429 - accuracy: 0.7015 - val_loss: 0.8973 - val_accuracy: 0.7112\n",
            "Epoch 13/30\n",
            "263/263 [==============================] - 3s 11ms/step - loss: 0.9298 - accuracy: 0.7049 - val_loss: 0.8743 - val_accuracy: 0.7254\n",
            "Epoch 14/30\n",
            "263/263 [==============================] - 3s 11ms/step - loss: 0.9036 - accuracy: 0.7130 - val_loss: 0.8712 - val_accuracy: 0.7230\n",
            "Epoch 15/30\n",
            "263/263 [==============================] - 5s 20ms/step - loss: 0.8883 - accuracy: 0.7199 - val_loss: 0.8660 - val_accuracy: 0.7224\n",
            "Epoch 16/30\n",
            "263/263 [==============================] - 4s 17ms/step - loss: 0.8699 - accuracy: 0.7273 - val_loss: 0.8462 - val_accuracy: 0.7340\n",
            "Epoch 17/30\n",
            "263/263 [==============================] - 3s 10ms/step - loss: 0.8524 - accuracy: 0.7304 - val_loss: 0.8177 - val_accuracy: 0.7401\n",
            "Epoch 18/30\n",
            "263/263 [==============================] - 2s 9ms/step - loss: 0.8368 - accuracy: 0.7344 - val_loss: 0.8306 - val_accuracy: 0.7358\n",
            "Epoch 19/30\n",
            "263/263 [==============================] - 2s 9ms/step - loss: 0.8202 - accuracy: 0.7418 - val_loss: 0.8216 - val_accuracy: 0.7388\n",
            "Epoch 20/30\n",
            "263/263 [==============================] - 3s 12ms/step - loss: 0.8192 - accuracy: 0.7414 - val_loss: 0.7775 - val_accuracy: 0.7579\n",
            "Epoch 21/30\n",
            "263/263 [==============================] - 4s 15ms/step - loss: 0.8072 - accuracy: 0.7451 - val_loss: 0.8075 - val_accuracy: 0.7505\n",
            "Epoch 22/30\n",
            "263/263 [==============================] - 2s 8ms/step - loss: 0.7943 - accuracy: 0.7474 - val_loss: 0.8293 - val_accuracy: 0.7436\n",
            "Epoch 23/30\n",
            "263/263 [==============================] - 2s 9ms/step - loss: 0.7816 - accuracy: 0.7510 - val_loss: 0.7738 - val_accuracy: 0.7582\n",
            "Epoch 24/30\n",
            "263/263 [==============================] - 2s 9ms/step - loss: 0.7688 - accuracy: 0.7590 - val_loss: 0.8093 - val_accuracy: 0.7418\n",
            "Epoch 25/30\n",
            "263/263 [==============================] - 2s 9ms/step - loss: 0.7680 - accuracy: 0.7574 - val_loss: 0.7795 - val_accuracy: 0.7564\n",
            "Epoch 26/30\n",
            "263/263 [==============================] - 3s 11ms/step - loss: 0.7557 - accuracy: 0.7606 - val_loss: 0.8025 - val_accuracy: 0.7385\n",
            "Epoch 27/30\n",
            "263/263 [==============================] - 4s 14ms/step - loss: 0.7417 - accuracy: 0.7663 - val_loss: 0.7405 - val_accuracy: 0.7670\n",
            "Epoch 28/30\n",
            "263/263 [==============================] - 2s 9ms/step - loss: 0.7479 - accuracy: 0.7637 - val_loss: 0.7702 - val_accuracy: 0.7579\n",
            "Epoch 29/30\n",
            "263/263 [==============================] - 2s 9ms/step - loss: 0.7459 - accuracy: 0.7629 - val_loss: 0.7415 - val_accuracy: 0.7671\n",
            "Epoch 30/30\n",
            "263/263 [==============================] - 2s 8ms/step - loss: 0.7257 - accuracy: 0.7715 - val_loss: 0.7183 - val_accuracy: 0.7804\n"
          ]
        }
      ]
    },
    {
      "cell_type": "code",
      "source": [
        "## The accuracy seems a bit higher for this model compared to the earlier one. \n"
      ],
      "metadata": {
        "id": "uX1K_6q0mfJF"
      },
      "execution_count": 29,
      "outputs": []
    },
    {
      "cell_type": "code",
      "source": [
        "#plotting model accuracy\n",
        "plt.plot(history_model_2.history['accuracy'])\n",
        "plt.plot(history_model_2.history['val_accuracy'])\n",
        "plt.title('model accuracy')\n",
        "plt.ylabel('accuracy')\n",
        "plt.xlabel('epoch')\n",
        "plt.legend(['train', 'test'], loc='upper left')\n",
        "plt.show()"
      ],
      "metadata": {
        "colab": {
          "base_uri": "https://localhost:8080/",
          "height": 472
        },
        "id": "3I7QB0HkmfTJ",
        "outputId": "62acf4f0-321e-4e46-cc81-022087ca288b"
      },
      "execution_count": 30,
      "outputs": [
        {
          "output_type": "display_data",
          "data": {
            "text/plain": [
              "<Figure size 640x480 with 1 Axes>"
            ],
            "image/png": "[encoded data removed]"
          },
          "metadata": {}
        }
      ]
    },
    {
      "cell_type": "code",
      "source": [
        "# plotting model loss\n",
        "\n",
        "plt.plot(history_model_2.history['loss'])\n",
        "plt.plot(history_model_2.history['val_loss'])\n",
        "plt.title('model loss')\n",
        "plt.ylabel('loss')\n",
        "plt.xlabel('epoch')\n",
        "plt.legend(['train', 'test'], loc='upper left')\n",
        "plt.show()"
      ],
      "metadata": {
        "colab": {
          "base_uri": "https://localhost:8080/",
          "height": 472
        },
        "id": "ITQec2iwmfdu",
        "outputId": "541f3a19-26fa-4701-d6f6-9a835d5dfc8b"
      },
      "execution_count": 31,
      "outputs": [
        {
          "output_type": "display_data",
          "data": {
            "text/plain": [
              "<Figure size 640x480 with 1 Axes>"
            ],
            "image/png": "[encoded data removed]"
          },
          "metadata": {}
        }
      ]
    },
    {
      "cell_type": "markdown",
      "metadata": {
        "id": "VPW1LlD61RDn"
      },
      "source": [
        "**Observations:**\n",
        "From model accuracy plot we can see that testing performance is trying to mimic or in otherwords capture the training data well as number of epochs are incresing.\n",
        "\n",
        "From the loss plot(Model loss) we can see that training loss is consistenlty decreasing whereas the test loss is also decresing but not consistent as compared to the training loss."
      ]
    },
    {
      "cell_type": "markdown",
      "metadata": {
        "id": "8kuXx9Bvu00f"
      },
      "source": [
        "## **Predictions on the test data**\n",
        "\n",
        "- Make predictions on the test set using the second model.\n",
        "- Print the obtained results using the classification report and the confusion matrix.\n",
        "- Final observations on the obtained results."
      ]
    },
    {
      "cell_type": "code",
      "execution_count": 32,
      "metadata": {
        "id": "xbWMEtTj5Ad0",
        "colab": {
          "base_uri": "https://localhost:8080/"
        },
        "outputId": "eb1ed669-b8de-4793-84f4-b6b5f00ac3a7"
      },
      "outputs": [
        {
          "output_type": "stream",
          "name": "stdout",
          "text": [
            "563/563 [==============================] - 1s 2ms/step\n"
          ]
        }
      ],
      "source": [
        "test_pred = model_2.predict(X_test)\n",
        "\n",
        "test_pred = np.argmax(test_pred, axis = -1)"
      ]
    },
    {
      "cell_type": "markdown",
      "metadata": {
        "id": "i3li8Ib08yts"
      },
      "source": [
        "**Note:** Earlier, we noticed that each entry of the target variable is a one-hot encoded vector but to print the classification report and confusion matrix, we must convert each entry of y_test to a single label."
      ]
    },
    {
      "cell_type": "code",
      "execution_count": 33,
      "metadata": {
        "id": "NByu7uAQ8x9P"
      },
      "outputs": [],
      "source": [
        "# Converting each entry to single label from one-hot encoded vector\n",
        "\n",
        "y_test = np.argmax(y_test, axis = -1)"
      ]
    },
    {
      "cell_type": "markdown",
      "metadata": {
        "id": "1_SIoopr0XIg"
      },
      "source": [
        "### **Print the classification report and the confusion matrix for the test predictions. Write your observations on the final results.**"
      ]
    },
    {
      "cell_type": "code",
      "execution_count": 34,
      "metadata": {
        "id": "xRddeJ-3EHT1",
        "colab": {
          "base_uri": "https://localhost:8080/",
          "height": 779
        },
        "outputId": "e9f4f457-c673-4687-d9e9-bd80f8dd944a"
      },
      "outputs": [
        {
          "output_type": "stream",
          "name": "stdout",
          "text": [
            "              precision    recall  f1-score   support\n",
            "\n",
            "           0       0.83      0.81      0.82      1814\n",
            "           1       0.81      0.80      0.80      1828\n",
            "           2       0.83      0.78      0.80      1803\n",
            "           3       0.74      0.73      0.73      1719\n",
            "           4       0.75      0.85      0.80      1812\n",
            "           5       0.75      0.75      0.75      1768\n",
            "           6       0.73      0.79      0.76      1832\n",
            "           7       0.85      0.77      0.81      1808\n",
            "           8       0.72      0.74      0.73      1812\n",
            "           9       0.79      0.75      0.77      1804\n",
            "\n",
            "    accuracy                           0.78     18000\n",
            "   macro avg       0.78      0.78      0.78     18000\n",
            "weighted avg       0.78      0.78      0.78     18000\n",
            "\n"
          ]
        },
        {
          "output_type": "display_data",
          "data": {
            "text/plain": [
              "<Figure size 800x500 with 2 Axes>"
            ],
            "image/png": "[encoded data removed]"
          },
          "metadata": {}
        }
      ],
      "source": [
        "from sklearn.metrics import classification_report\n",
        "\n",
        "from sklearn.metrics import confusion_matrix\n",
        "\n",
        "# Printing the classification report\n",
        "\n",
        "print(classification_report(y_test, test_pred))\n",
        "\n",
        "# Plotting the heatmap using confusion matrix\n",
        "\n",
        "cm =  confusion_matrix(y_test, test_pred) # the code for creating confusion matrix using actual labels (y_test) and predicted labels (test_pred)\n",
        "\n",
        "plt.figure(figsize = (8, 5))\n",
        "\n",
        "sns.heatmap(cm, annot = True,  fmt = '.0f')\n",
        "\n",
        "plt.ylabel('Actual')\n",
        "\n",
        "plt.xlabel('Predicted')\n",
        "\n",
        "plt.show()"
      ]
    },
    {
      "cell_type": "markdown",
      "metadata": {
        "id": "DjErl4GA2u9s"
      },
      "source": [
        "**Final Observations:**\n",
        "From the above confusion matrix we can see that digits 1 followed by 4 and 2 are most corectly classified, on the flipside digits 3, 5, 9, 7  were poorly classified because of it's structural complexity.\n",
        "\n",
        "Comparing both of the above build models, we can say that, first model was not performing well whereas the second model has slightly better performance in terms of both accuracy and loss compared to the first model"
      ]
    },
    {
      "cell_type": "markdown",
      "metadata": {
        "id": "xkR4JioMsuIV"
      },
      "source": [
        "## **Using Convolutional Neural Networks**"
      ]
    },
    {
      "cell_type": "markdown",
      "metadata": {
        "id": "YN2YgkGL_6xQ"
      },
      "source": [
        "### **Load the dataset again and split the data into the train and the test dataset.**"
      ]
    },
    {
      "cell_type": "code",
      "execution_count": 35,
      "metadata": {
        "id": "mqM204HbAjP2",
        "scrolled": true
      },
      "outputs": [],
      "source": [
        "import h5py\n",
        "\n",
        "h5f = h5py.File('/content/drive/MyDrive/SVHN_single_grey1.h5', 'r')\n",
        "\n",
        "X_train = h5f['X_train'][:]\n",
        "\n",
        "y_train = h5f['y_train'][:]\n",
        "\n",
        "X_test = h5f['X_test'][:]\n",
        "\n",
        "y_test = h5f['y_test'][:]\n",
        "\n",
        "\n",
        "# Closing the file\n",
        "\n",
        "h5f.close()"
      ]
    },
    {
      "cell_type": "markdown",
      "metadata": {
        "id": "6fPqF_xGAjQB"
      },
      "source": [
        "Check the number of images in the training and the testing dataset."
      ]
    },
    {
      "cell_type": "code",
      "execution_count": 36,
      "metadata": {
        "id": "gTLJZWjPAjQB",
        "colab": {
          "base_uri": "https://localhost:8080/"
        },
        "outputId": "46dbbeba-155f-49fa-c67d-659c96ac02bd"
      },
      "outputs": [
        {
          "output_type": "execute_result",
          "data": {
            "text/plain": [
              "(42000, 18000)"
            ]
          },
          "metadata": {},
          "execution_count": 36
        }
      ],
      "source": [
        "len(X_train), len(X_test)"
      ]
    },
    {
      "cell_type": "markdown",
      "metadata": {
        "id": "9qyMiP_rAjQB"
      },
      "source": [
        "**Observation:**\n"
      ]
    },
    {
      "cell_type": "markdown",
      "metadata": {
        "id": "OJndFfEVAjQG"
      },
      "source": [
        "## **Data preparation**\n",
        "\n",
        "- Print the shape and the array of pixels for the first image in the training dataset.\n",
        "- Reshape the train and the test dataset because we always have to give a 4D array as input to CNNs.\n",
        "- Normalize the train and the test dataset by dividing by 255.\n",
        "- Print the new shapes of the train and the test dataset.\n",
        "- One-hot encode the target variable."
      ]
    },
    {
      "cell_type": "code",
      "execution_count": 37,
      "metadata": {
        "id": "W4uXqKz1AjQG",
        "colab": {
          "base_uri": "https://localhost:8080/"
        },
        "outputId": "dae1272f-1c9f-4eba-9bd5-623074521fce"
      },
      "outputs": [
        {
          "output_type": "stream",
          "name": "stdout",
          "text": [
            "Shape: (32, 32)\n",
            "\n",
            "First image:\n",
            " [[ 33.0704  30.2601  26.852  ...  71.4471  58.2204  42.9939]\n",
            " [ 25.2283  25.5533  29.9765 ... 113.0209 103.3639  84.2949]\n",
            " [ 26.2775  22.6137  40.4763 ... 113.3028 121.775  115.4228]\n",
            " ...\n",
            " [ 28.5502  36.212   45.0801 ...  24.1359  25.0927  26.0603]\n",
            " [ 38.4352  26.4733  23.2717 ...  28.1094  29.4683  30.0661]\n",
            " [ 50.2984  26.0773  24.0389 ...  49.6682  50.853   53.0377]]\n"
          ]
        }
      ],
      "source": [
        "# Shape and the array of pixels for the first image\n",
        "\n",
        "print(\"Shape:\", X_train[0].shape)\n",
        "\n",
        "print()\n",
        "\n",
        "print(\"First image:\\n\", X_train[0])"
      ]
    },
    {
      "cell_type": "markdown",
      "metadata": {
        "id": "at30iiX1__7F"
      },
      "source": [
        "Reshape the dataset to be able to pass them to CNNs. Remember that we always have to give a 4D array as input to CNNs"
      ]
    },
    {
      "cell_type": "code",
      "execution_count": 38,
      "metadata": {
        "id": "D9YPwf9ysqWU"
      },
      "outputs": [],
      "source": [
        "# Reshaping the dataset to be able to pass them to CNNs. \n",
        "\n",
        "X_train = X_train.reshape(X_train.shape[0], 32, 32, 1)\n",
        "\n",
        "X_test = X_test.reshape(X_test.shape[0], 32, 32, 1)"
      ]
    },
    {
      "cell_type": "markdown",
      "metadata": {
        "id": "ODYnoLfaAEGx"
      },
      "source": [
        "Normalize inputs from 0-255 to 0-1"
      ]
    },
    {
      "cell_type": "code",
      "execution_count": 39,
      "metadata": {
        "id": "eOGLAn40AjQG"
      },
      "outputs": [],
      "source": [
        "# Normalize inputs from 0-255 to 0-1\n",
        "\n",
        "X_train = X_train / 255.0\n",
        "\n",
        "X_test = X_test / 255.0"
      ]
    },
    {
      "cell_type": "markdown",
      "metadata": {
        "id": "cS9T4HqjAoyM"
      },
      "source": [
        "Print New shape of Training and Test"
      ]
    },
    {
      "cell_type": "code",
      "execution_count": 40,
      "metadata": {
        "id": "5qf8S5NQAjQG",
        "colab": {
          "base_uri": "https://localhost:8080/"
        },
        "outputId": "27244c03-88b6-4fc4-e8f9-43ec23d09085"
      },
      "outputs": [
        {
          "output_type": "stream",
          "name": "stdout",
          "text": [
            "Training set: (42000, 32, 32, 1) (42000,)\n",
            "Test set: (18000, 32, 32, 1) (18000,)\n"
          ]
        }
      ],
      "source": [
        "# New shape \n",
        "\n",
        "print('Training set:', X_train.shape, y_train.shape)\n",
        "\n",
        "print('Test set:', X_test.shape, y_test.shape)"
      ]
    },
    {
      "cell_type": "markdown",
      "metadata": {
        "id": "10QaOV-xR7Jn"
      },
      "source": [
        "### **One-hot encode the labels in the target variable y_train and y_test.**"
      ]
    },
    {
      "cell_type": "code",
      "execution_count": 41,
      "metadata": {
        "id": "3KHWFWKMAjQH",
        "colab": {
          "base_uri": "https://localhost:8080/"
        },
        "outputId": "80216f91-87ef-4c88-e0e6-26bd702a93f9"
      },
      "outputs": [
        {
          "output_type": "execute_result",
          "data": {
            "text/plain": [
              "array([[0., 1., 0., ..., 0., 0., 0.],\n",
              "       [0., 0., 0., ..., 1., 0., 0.],\n",
              "       [0., 0., 1., ..., 0., 0., 0.],\n",
              "       ...,\n",
              "       [0., 0., 0., ..., 1., 0., 0.],\n",
              "       [0., 0., 0., ..., 0., 0., 1.],\n",
              "       [0., 0., 1., ..., 0., 0., 0.]], dtype=float32)"
            ]
          },
          "metadata": {},
          "execution_count": 41
        }
      ],
      "source": [
        "# one-hot encoding the output\n",
        "\n",
        "y_train = to_categorical(y_train)\n",
        "\n",
        "y_test = to_categorical(y_test)\n",
        "\n",
        "# test labels\n",
        "\n",
        "y_test"
      ]
    },
    {
      "cell_type": "markdown",
      "metadata": {
        "id": "H-8jYVQTAjQH"
      },
      "source": [
        "**Observation:**\n",
        "We can see from above that each record of the target variable is now one-hot encoded instead of a single label"
      ]
    },
    {
      "cell_type": "markdown",
      "metadata": {
        "id": "Vjx_LI4_AjQH"
      },
      "source": [
        "## **Model Building**\n",
        "\n",
        "Now that we have done data preprocessing, let's build a CNN model.\n",
        "Fix the seed for random number generators"
      ]
    },
    {
      "cell_type": "code",
      "execution_count": 42,
      "metadata": {
        "id": "ZY5pyF4-KDNt"
      },
      "outputs": [],
      "source": [
        "# Fixing the seed for random number generators\n",
        "\n",
        "np.random.seed(42)\n",
        "\n",
        "import random\n",
        "\n",
        "random.seed(42)\n",
        "\n",
        "tf.random.set_seed(42)"
      ]
    },
    {
      "cell_type": "markdown",
      "metadata": {
        "id": "1JUAczhzAjQH"
      },
      "source": [
        "### **Model Architecture**\n",
        "- **Write a function** that returns a sequential model with the following architecture:\n",
        " - First Convolutional layer with **16 filters and the kernel size of 3x3**. Use the **'same' padding** and provide the **input shape = (32, 32, 1)**\n",
        " - Add a **LeakyRelu layer** with the **slope equal to 0.1**\n",
        " - Second Convolutional layer with **32 filters and the kernel size of 3x3 with 'same' padding**\n",
        " - Another **LeakyRelu** with the **slope equal to 0.1**\n",
        " - A **max-pooling layer** with a **pool size of 2x2**\n",
        " - **Flatten** the output from the previous layer\n",
        " - Add a **dense layer with 32 nodes**\n",
        " - Add a **LeakyRelu layer with the slope equal to 0.1**\n",
        " - Add the final **output layer with nodes equal to the number of classes, i.e., 10** and **'softmax' as the activation function**\n",
        " - Compile the model with the **loss equal to categorical_crossentropy, optimizer equal to Adam(learning_rate = 0.001), and metric equal to 'accuracy'**. Do not fit the model here, just return the compiled model.\n",
        "- Call the function cnn_model_1 and store the output in a new variable.\n",
        "- Print the summary of the model.\n",
        "- Fit the model on the training data with a **validation split of 0.2, batch size = 32, verbose = 1, and epochs = 20**. Store the model building history to use later for visualization."
      ]
    },
    {
      "cell_type": "markdown",
      "metadata": {
        "id": "JWsAd45JKDNu"
      },
      "source": [
        "### **Build and train a CNN model as per the above mentioned architecture.**"
      ]
    },
    {
      "cell_type": "code",
      "execution_count": 43,
      "metadata": {
        "id": "L1jOYANWAjQH"
      },
      "outputs": [],
      "source": [
        "# Define the model\n",
        "\n",
        "def cnn_model_1():\n",
        "\n",
        "    model = Sequential() \n",
        "    \n",
        "    # Add layers as per the architecture mentioned above in the same sequence\n",
        "\n",
        "    model.add(Conv2D(16, (3, 3), activation='relu', input_shape=(32, 32, 1)))\n",
        "\n",
        "    model.add(LeakyReLU(alpha=0.1))\n",
        "\n",
        "    model.add(Conv2D(32, (3, 3)))\n",
        "\n",
        "    model.add(LeakyReLU(alpha=0.1))\n",
        "\n",
        "    model.add(MaxPooling2D((2, 2)))\n",
        "\n",
        "    model.add(Flatten())\n",
        "\n",
        "    model.add(Dense(32))\n",
        "\n",
        "    model.add(LeakyReLU(alpha=0.1))\n",
        "\n",
        "    model.add(Dense(10, activation = 'softmax'))\n",
        "    \n",
        "    # Compile the model\n",
        "    optimizer = tf.keras.optimizers.legacy.Adam(0.001)\n",
        "    model.compile(optimizer = optimizer, loss = 'categorical_crossentropy',  metrics = ['accuracy'])\n",
        "    \n",
        "    return model"
      ]
    },
    {
      "cell_type": "code",
      "source": [
        "# Building the model\n",
        "\n",
        "cnn_model_1 = cnn_model_1()\n",
        "\n",
        "# Printing the model summary\n",
        "\n",
        "cnn_model_1.summary()"
      ],
      "metadata": {
        "colab": {
          "base_uri": "https://localhost:8080/"
        },
        "id": "ODCzc1M0ojRJ",
        "outputId": "5abee251-748d-433b-a39b-4527a79bd20b"
      },
      "execution_count": 44,
      "outputs": [
        {
          "output_type": "stream",
          "name": "stdout",
          "text": [
            "Model: \"sequential_1\"\n",
            "_________________________________________________________________\n",
            " Layer (type)                Output Shape              Param #   \n",
            "=================================================================\n",
            " conv2d (Conv2D)             (None, 30, 30, 16)        160       \n",
            "                                                                 \n",
            " leaky_re_lu (LeakyReLU)     (None, 30, 30, 16)        0         \n",
            "                                                                 \n",
            " conv2d_1 (Conv2D)           (None, 28, 28, 32)        4640      \n",
            "                                                                 \n",
            " leaky_re_lu_1 (LeakyReLU)   (None, 28, 28, 32)        0         \n",
            "                                                                 \n",
            " max_pooling2d (MaxPooling2D  (None, 14, 14, 32)       0         \n",
            " )                                                               \n",
            "                                                                 \n",
            " flatten_1 (Flatten)         (None, 6272)              0         \n",
            "                                                                 \n",
            " dense_6 (Dense)             (None, 32)                200736    \n",
            "                                                                 \n",
            " leaky_re_lu_2 (LeakyReLU)   (None, 32)                0         \n",
            "                                                                 \n",
            " dense_7 (Dense)             (None, 10)                330       \n",
            "                                                                 \n",
            "=================================================================\n",
            "Total params: 205,866\n",
            "Trainable params: 205,866\n",
            "Non-trainable params: 0\n",
            "_________________________________________________________________\n"
          ]
        }
      ]
    },
    {
      "cell_type": "code",
      "source": [
        "# Fitting the model\n",
        "\n",
        "history_cnn_model_1 = cnn_model_1.fit(X_train, y_train, validation_split= 0.2, epochs =20, batch_size=32, verbose=1)"
      ],
      "metadata": {
        "colab": {
          "base_uri": "https://localhost:8080/"
        },
        "id": "pbRSco41orYw",
        "outputId": "f7c46c70-5ec5-4d94-b40d-3db0cf625b68"
      },
      "execution_count": 45,
      "outputs": [
        {
          "output_type": "stream",
          "name": "stdout",
          "text": [
            "Epoch 1/20\n",
            "1050/1050 [==============================] - 67s 63ms/step - loss: 1.0579 - accuracy: 0.6631 - val_loss: 0.6603 - val_accuracy: 0.8107\n",
            "Epoch 2/20\n",
            "1050/1050 [==============================] - 65s 62ms/step - loss: 0.5711 - accuracy: 0.8369 - val_loss: 0.5597 - val_accuracy: 0.8419\n",
            "Epoch 3/20\n",
            "1050/1050 [==============================] - 64s 61ms/step - loss: 0.4838 - accuracy: 0.8600 - val_loss: 0.5363 - val_accuracy: 0.8476\n",
            "Epoch 4/20\n",
            "1050/1050 [==============================] - 63s 60ms/step - loss: 0.4249 - accuracy: 0.8772 - val_loss: 0.4691 - val_accuracy: 0.8698\n",
            "Epoch 5/20\n",
            "1050/1050 [==============================] - 66s 63ms/step - loss: 0.3800 - accuracy: 0.8872 - val_loss: 0.4691 - val_accuracy: 0.8669\n",
            "Epoch 6/20\n",
            "1050/1050 [==============================] - 65s 62ms/step - loss: 0.3425 - accuracy: 0.8960 - val_loss: 0.4641 - val_accuracy: 0.8677\n",
            "Epoch 7/20\n",
            "1050/1050 [==============================] - 66s 63ms/step - loss: 0.3100 - accuracy: 0.9075 - val_loss: 0.4553 - val_accuracy: 0.8732\n",
            "Epoch 8/20\n",
            "1050/1050 [==============================] - 66s 63ms/step - loss: 0.2806 - accuracy: 0.9160 - val_loss: 0.4742 - val_accuracy: 0.8677\n",
            "Epoch 9/20\n",
            "1050/1050 [==============================] - 68s 65ms/step - loss: 0.2560 - accuracy: 0.9222 - val_loss: 0.4677 - val_accuracy: 0.8732\n",
            "Epoch 10/20\n",
            "1050/1050 [==============================] - 67s 64ms/step - loss: 0.2318 - accuracy: 0.9300 - val_loss: 0.4788 - val_accuracy: 0.8774\n",
            "Epoch 11/20\n",
            "1050/1050 [==============================] - 67s 64ms/step - loss: 0.2101 - accuracy: 0.9361 - val_loss: 0.5162 - val_accuracy: 0.8694\n",
            "Epoch 12/20\n",
            "1050/1050 [==============================] - 68s 65ms/step - loss: 0.1929 - accuracy: 0.9399 - val_loss: 0.5200 - val_accuracy: 0.8713\n",
            "Epoch 13/20\n",
            "1050/1050 [==============================] - 66s 63ms/step - loss: 0.1748 - accuracy: 0.9467 - val_loss: 0.5442 - val_accuracy: 0.8694\n",
            "Epoch 14/20\n",
            "1050/1050 [==============================] - 67s 64ms/step - loss: 0.1544 - accuracy: 0.9521 - val_loss: 0.5931 - val_accuracy: 0.8613\n",
            "Epoch 15/20\n",
            "1050/1050 [==============================] - 74s 71ms/step - loss: 0.1423 - accuracy: 0.9565 - val_loss: 0.6053 - val_accuracy: 0.8645\n",
            "Epoch 16/20\n",
            "1050/1050 [==============================] - 69s 65ms/step - loss: 0.1301 - accuracy: 0.9599 - val_loss: 0.5903 - val_accuracy: 0.8702\n",
            "Epoch 17/20\n",
            "1050/1050 [==============================] - 68s 65ms/step - loss: 0.1184 - accuracy: 0.9613 - val_loss: 0.6315 - val_accuracy: 0.8717\n",
            "Epoch 18/20\n",
            "1050/1050 [==============================] - 72s 68ms/step - loss: 0.1023 - accuracy: 0.9676 - val_loss: 0.6865 - val_accuracy: 0.8665\n",
            "Epoch 19/20\n",
            "1050/1050 [==============================] - 68s 64ms/step - loss: 0.0929 - accuracy: 0.9696 - val_loss: 0.6975 - val_accuracy: 0.8689\n",
            "Epoch 20/20\n",
            "1050/1050 [==============================] - 67s 64ms/step - loss: 0.0920 - accuracy: 0.9702 - val_loss: 0.7009 - val_accuracy: 0.8673\n"
          ]
        }
      ]
    },
    {
      "cell_type": "markdown",
      "metadata": {
        "id": "JPzfIf9kKDNw"
      },
      "source": [
        "### **Plot the Training and Validation Accuracies and Write your observations.**"
      ]
    },
    {
      "cell_type": "code",
      "execution_count": 46,
      "metadata": {
        "id": "07oUCr1kAjQH",
        "colab": {
          "base_uri": "https://localhost:8080/",
          "height": 472
        },
        "outputId": "2605539d-7bb0-4dc0-aa33-2c39ee54b4a1"
      },
      "outputs": [
        {
          "output_type": "display_data",
          "data": {
            "text/plain": [
              "<Figure size 640x480 with 1 Axes>"
            ],
            "image/png": "[encoded data removed]"
          },
          "metadata": {}
        }
      ],
      "source": [
        "## plot for model accuracy\n",
        "plt.plot(history_cnn_model_1.history['accuracy'])\n",
        "plt.plot(history_cnn_model_1.history['val_accuracy'])\n",
        "plt.title('model accuracy')\n",
        "plt.ylabel('accuracy')\n",
        "plt.xlabel('epoch')\n",
        "plt.legend(['train', 'test'], loc='upper left')\n",
        "plt.show()"
      ]
    },
    {
      "cell_type": "code",
      "source": [
        "# Plotting model loss\n",
        "plt.plot(history_cnn_model_1.history['loss'])                       \n",
        "plt.plot(history_cnn_model_1.history['val_loss'])\n",
        "plt.title('model loss')\n",
        "plt.ylabel('loss')\n",
        "plt.xlabel('epoch')\n",
        "plt.legend(['train', 'test'], loc='upper left')\n",
        "plt.show()"
      ],
      "metadata": {
        "colab": {
          "base_uri": "https://localhost:8080/",
          "height": 472
        },
        "id": "dVTykvi9o1ov",
        "outputId": "965d4cc2-7739-4412-d137-85bd5882585a"
      },
      "execution_count": 47,
      "outputs": [
        {
          "output_type": "display_data",
          "data": {
            "text/plain": [
              "<Figure size 640x480 with 1 Axes>"
            ],
            "image/png": "[encoded data removed]"
          },
          "metadata": {}
        }
      ]
    },
    {
      "cell_type": "markdown",
      "metadata": {
        "id": "P6zTLyp9AjQH"
      },
      "source": [
        "**Observations:**\n",
        "\n",
        "From the above two plots, we can see that model accuracy and model loss looks good for training data, but it's not the good or expected results that we are seeing here for testing data, with that being said, we can say that the CNN is not yeilding us the good results."
      ]
    },
    {
      "cell_type": "markdown",
      "metadata": {
        "id": "Ukvtg2eMAjQH"
      },
      "source": [
        "Let's build another model and see if we can get a better model with generalized performance.\n",
        "\n",
        "First, we need to clear the previous model's history from the Keras backend. Also, let's fix the seed again after clearing the backend."
      ]
    },
    {
      "cell_type": "code",
      "execution_count": 48,
      "metadata": {
        "id": "HbKi93HTolGW"
      },
      "outputs": [],
      "source": [
        "# Clearing backend\n",
        "\n",
        "from tensorflow.keras import backend\n",
        "\n",
        "backend.clear_session()"
      ]
    },
    {
      "cell_type": "code",
      "source": [
        "# Fixing the seed for random number generators\n",
        "\n",
        "np.random.seed(42)\n",
        "\n",
        "import random\n",
        "\n",
        "random.seed(42)\n",
        "\n",
        "tf.random.set_seed(42)"
      ],
      "metadata": {
        "id": "fY7Ilgm7pC7L"
      },
      "execution_count": 49,
      "outputs": []
    },
    {
      "cell_type": "markdown",
      "metadata": {
        "id": "Ep19Jd8HAjQH"
      },
      "source": [
        "### **Second Model Architecture**\n",
        "\n",
        "- Write a function that returns a sequential model with the following architecture:\n",
        " - First Convolutional layer with **16 filters and the kernel size of 3x3**. Use the **'same' padding** and provide the **input shape = (32, 32, 1)**\n",
        " - Add a **LeakyRelu layer** with the **slope equal to 0.1**\n",
        " - Second Convolutional layer with **32 filters and the kernel size of 3x3 with 'same' padding**\n",
        " - Add **LeakyRelu** with the **slope equal to 0.1**\n",
        " - Add a **max-pooling layer** with a **pool size of 2x2**\n",
        " - Add a **BatchNormalization layer**\n",
        " - Third Convolutional layer with **32 filters and the kernel size of 3x3 with 'same' padding**\n",
        " - Add a **LeakyRelu layer with the slope equal to 0.1**\n",
        " - Fourth Convolutional layer **64 filters and the kernel size of 3x3 with 'same' padding** \n",
        " - Add a **LeakyRelu layer with the slope equal to 0.1**\n",
        " - Add a **max-pooling layer** with a **pool size of 2x2**\n",
        " - Add a **BatchNormalization layer**\n",
        " - **Flatten** the output from the previous layer\n",
        " - Add a **dense layer with 32 nodes**\n",
        " - Add a **LeakyRelu layer with the slope equal to 0.1**\n",
        " - Add a **dropout layer with the rate equal to 0.5**\n",
        " - Add the final **output layer with nodes equal to the number of classes, i.e., 10** and **'softmax' as the activation function**\n",
        " - Compile the model with the **categorical_crossentropy loss, adam optimizers (learning_rate = 0.001), and metric equal to 'accuracy'**. Do not fit the model here, just return the compiled model.\n",
        "- Call the function cnn_model_2 and store the model in a new variable.\n",
        "- Print the summary of the model.\n",
        "- Fit the model on the train data with a **validation split of 0.2, batch size = 128, verbose = 1, and epochs = 30**. Store the model building history to use later for visualization."
      ]
    },
    {
      "cell_type": "markdown",
      "metadata": {
        "id": "y5IBLS1eKDNy"
      },
      "source": [
        "### **Build and train the second CNN model as per the above mentioned architecture.**"
      ]
    },
    {
      "cell_type": "code",
      "execution_count": 50,
      "metadata": {
        "id": "wk9sl2UEAjQH"
      },
      "outputs": [],
      "source": [
        "# Define the model\n",
        "\n",
        "def cnn_model_2():\n",
        "    \n",
        "    model = Sequential()\n",
        "    \n",
        "    # Add layers as per the architecture mentioned above in the same sequence\n",
        "\n",
        "    model.add(Conv2D(16, (3, 3), activation='relu', input_shape=(32, 32, 1))) \n",
        "\n",
        "    model.add(LeakyReLU(alpha=0.1))\n",
        "\n",
        "    model.add(Conv2D(32, (3, 3), activation='relu'))\n",
        "\n",
        "    model.add(LeakyReLU(alpha=0.1))\n",
        "\n",
        "    model.add(MaxPooling2D((2, 2)))\n",
        "\n",
        "    model.add(BatchNormalization(synchronized=True))\n",
        "\n",
        "    model.add(Conv2D(32, (3, 3)))\n",
        "\n",
        "    model.add(LeakyReLU(alpha=0.1))\n",
        "\n",
        "    model.add(Conv2D(64, (3, 3)))\n",
        "\n",
        "    model.add(LeakyReLU(alpha=0.1))\n",
        "\n",
        "    model.add(MaxPooling2D((2, 2)))\n",
        "\n",
        "    model.add(BatchNormalization(synchronized=True))\n",
        "\n",
        "    model.add(Flatten())\n",
        "\n",
        "    model.add(Dense(32))\n",
        "\n",
        "    model.add(LeakyReLU(alpha=0.1))\n",
        "\n",
        "    model.add(Dropout(.5))\n",
        "\n",
        "    model.add(Dense(10, activation = 'softmax'))\n",
        "\n",
        "    # Compile the model\n",
        "    optimizer = tf.keras.optimizers.legacy.Adam(0.001)\n",
        "    model.compile(optimizer = optimizer, loss = 'categorical_crossentropy',  metrics = ['accuracy'])\n",
        "    \n",
        "    return model\n",
        "\n",
        "\n",
        "\n",
        "\n"
      ]
    },
    {
      "cell_type": "code",
      "source": [
        "# Building the model\n",
        "\n",
        "cnn_model_2 = cnn_model_2()"
      ],
      "metadata": {
        "id": "-6SjtHW0pxRV"
      },
      "execution_count": 51,
      "outputs": []
    },
    {
      "cell_type": "code",
      "source": [
        "# Printing the summary\n",
        "\n",
        "cnn_model_2.summary()"
      ],
      "metadata": {
        "colab": {
          "base_uri": "https://localhost:8080/"
        },
        "id": "Ui-TQThqpzG0",
        "outputId": "5d099765-79ea-4660-999c-5f6a49e60ff6"
      },
      "execution_count": 52,
      "outputs": [
        {
          "output_type": "stream",
          "name": "stdout",
          "text": [
            "Model: \"sequential\"\n",
            "_________________________________________________________________\n",
            " Layer (type)                Output Shape              Param #   \n",
            "=================================================================\n",
            " conv2d (Conv2D)             (None, 30, 30, 16)        160       \n",
            "                                                                 \n",
            " leaky_re_lu (LeakyReLU)     (None, 30, 30, 16)        0         \n",
            "                                                                 \n",
            " conv2d_1 (Conv2D)           (None, 28, 28, 32)        4640      \n",
            "                                                                 \n",
            " leaky_re_lu_1 (LeakyReLU)   (None, 28, 28, 32)        0         \n",
            "                                                                 \n",
            " max_pooling2d (MaxPooling2D  (None, 14, 14, 32)       0         \n",
            " )                                                               \n",
            "                                                                 \n",
            " batch_normalization (BatchN  (None, 14, 14, 32)       128       \n",
            " ormalization)                                                   \n",
            "                                                                 \n",
            " conv2d_2 (Conv2D)           (None, 12, 12, 32)        9248      \n",
            "                                                                 \n",
            " leaky_re_lu_2 (LeakyReLU)   (None, 12, 12, 32)        0         \n",
            "                                                                 \n",
            " conv2d_3 (Conv2D)           (None, 10, 10, 64)        18496     \n",
            "                                                                 \n",
            " leaky_re_lu_3 (LeakyReLU)   (None, 10, 10, 64)        0         \n",
            "                                                                 \n",
            " max_pooling2d_1 (MaxPooling  (None, 5, 5, 64)         0         \n",
            " 2D)                                                             \n",
            "                                                                 \n",
            " batch_normalization_1 (Batc  (None, 5, 5, 64)         256       \n",
            " hNormalization)                                                 \n",
            "                                                                 \n",
            " flatten (Flatten)           (None, 1600)              0         \n",
            "                                                                 \n",
            " dense (Dense)               (None, 32)                51232     \n",
            "                                                                 \n",
            " leaky_re_lu_4 (LeakyReLU)   (None, 32)                0         \n",
            "                                                                 \n",
            " dropout (Dropout)           (None, 32)                0         \n",
            "                                                                 \n",
            " dense_1 (Dense)             (None, 10)                330       \n",
            "                                                                 \n",
            "=================================================================\n",
            "Total params: 84,490\n",
            "Trainable params: 84,298\n",
            "Non-trainable params: 192\n",
            "_________________________________________________________________\n"
          ]
        }
      ]
    },
    {
      "cell_type": "code",
      "source": [
        "# Fitting the model\n",
        "\n",
        "history_cnn_model_2 =cnn_model_2.fit( X_train, y_train, validation_split= 0.2, epochs =30, batch_size=128, verbose=1)"
      ],
      "metadata": {
        "colab": {
          "base_uri": "https://localhost:8080/"
        },
        "id": "8m41U442p4OB",
        "outputId": "2adedb95-22b9-4990-a012-e84b21695f08"
      },
      "execution_count": 53,
      "outputs": [
        {
          "output_type": "stream",
          "name": "stdout",
          "text": [
            "Epoch 1/30\n",
            "263/263 [==============================] - 94s 350ms/step - loss: 1.1907 - accuracy: 0.6165 - val_loss: 1.7841 - val_accuracy: 0.5479\n",
            "Epoch 2/30\n",
            "263/263 [==============================] - 91s 347ms/step - loss: 0.6716 - accuracy: 0.7956 - val_loss: 0.6189 - val_accuracy: 0.8524\n",
            "Epoch 3/30\n",
            "263/263 [==============================] - 90s 342ms/step - loss: 0.5592 - accuracy: 0.8327 - val_loss: 0.5730 - val_accuracy: 0.8314\n",
            "Epoch 4/30\n",
            "263/263 [==============================] - 92s 348ms/step - loss: 0.5003 - accuracy: 0.8499 - val_loss: 0.4256 - val_accuracy: 0.8752\n",
            "Epoch 5/30\n",
            "263/263 [==============================] - 92s 351ms/step - loss: 0.4442 - accuracy: 0.8647 - val_loss: 0.3971 - val_accuracy: 0.8864\n",
            "Epoch 6/30\n",
            "263/263 [==============================] - 94s 359ms/step - loss: 0.4175 - accuracy: 0.8737 - val_loss: 0.3729 - val_accuracy: 0.8942\n",
            "Epoch 7/30\n",
            "263/263 [==============================] - 93s 355ms/step - loss: 0.3930 - accuracy: 0.8819 - val_loss: 0.4211 - val_accuracy: 0.8779\n",
            "Epoch 8/30\n",
            "263/263 [==============================] - 92s 350ms/step - loss: 0.3715 - accuracy: 0.8878 - val_loss: 0.4005 - val_accuracy: 0.8843\n",
            "Epoch 9/30\n",
            "263/263 [==============================] - 90s 343ms/step - loss: 0.3471 - accuracy: 0.8964 - val_loss: 0.3570 - val_accuracy: 0.8982\n",
            "Epoch 10/30\n",
            "263/263 [==============================] - 90s 341ms/step - loss: 0.3325 - accuracy: 0.8989 - val_loss: 0.3646 - val_accuracy: 0.8967\n",
            "Epoch 11/30\n",
            "263/263 [==============================] - 92s 349ms/step - loss: 0.3157 - accuracy: 0.9037 - val_loss: 0.3651 - val_accuracy: 0.8961\n",
            "Epoch 12/30\n",
            "263/263 [==============================] - 92s 351ms/step - loss: 0.3016 - accuracy: 0.9075 - val_loss: 0.3521 - val_accuracy: 0.9004\n",
            "Epoch 13/30\n",
            "263/263 [==============================] - 92s 349ms/step - loss: 0.2884 - accuracy: 0.9108 - val_loss: 0.3509 - val_accuracy: 0.9036\n",
            "Epoch 14/30\n",
            "263/263 [==============================] - 92s 350ms/step - loss: 0.2737 - accuracy: 0.9151 - val_loss: 0.4270 - val_accuracy: 0.8833\n",
            "Epoch 15/30\n",
            "263/263 [==============================] - 90s 344ms/step - loss: 0.2701 - accuracy: 0.9157 - val_loss: 0.3986 - val_accuracy: 0.8938\n",
            "Epoch 16/30\n",
            "263/263 [==============================] - 90s 342ms/step - loss: 0.2592 - accuracy: 0.9193 - val_loss: 0.3380 - val_accuracy: 0.9113\n",
            "Epoch 17/30\n",
            "263/263 [==============================] - 89s 339ms/step - loss: 0.2455 - accuracy: 0.9235 - val_loss: 0.3600 - val_accuracy: 0.9099\n",
            "Epoch 18/30\n",
            "263/263 [==============================] - 93s 353ms/step - loss: 0.2367 - accuracy: 0.9247 - val_loss: 0.3443 - val_accuracy: 0.9132\n",
            "Epoch 19/30\n",
            "263/263 [==============================] - 91s 348ms/step - loss: 0.2387 - accuracy: 0.9232 - val_loss: 0.3989 - val_accuracy: 0.8983\n",
            "Epoch 20/30\n",
            "263/263 [==============================] - 95s 360ms/step - loss: 0.2205 - accuracy: 0.9297 - val_loss: 0.4067 - val_accuracy: 0.9129\n",
            "Epoch 21/30\n",
            "263/263 [==============================] - 92s 348ms/step - loss: 0.2218 - accuracy: 0.9280 - val_loss: 0.4282 - val_accuracy: 0.8957\n",
            "Epoch 22/30\n",
            "263/263 [==============================] - 92s 349ms/step - loss: 0.2116 - accuracy: 0.9322 - val_loss: 0.3716 - val_accuracy: 0.9090\n",
            "Epoch 23/30\n",
            "263/263 [==============================] - 91s 347ms/step - loss: 0.2124 - accuracy: 0.9310 - val_loss: 0.4056 - val_accuracy: 0.9104\n",
            "Epoch 24/30\n",
            "263/263 [==============================] - 91s 345ms/step - loss: 0.1998 - accuracy: 0.9354 - val_loss: 0.3883 - val_accuracy: 0.9123\n",
            "Epoch 25/30\n",
            "263/263 [==============================] - 95s 361ms/step - loss: 0.1927 - accuracy: 0.9366 - val_loss: 0.3913 - val_accuracy: 0.9195\n",
            "Epoch 26/30\n",
            "263/263 [==============================] - 91s 345ms/step - loss: 0.1933 - accuracy: 0.9376 - val_loss: 0.4248 - val_accuracy: 0.8962\n",
            "Epoch 27/30\n",
            "263/263 [==============================] - 91s 345ms/step - loss: 0.1839 - accuracy: 0.9410 - val_loss: 0.3889 - val_accuracy: 0.9174\n",
            "Epoch 28/30\n",
            "263/263 [==============================] - 90s 344ms/step - loss: 0.1800 - accuracy: 0.9418 - val_loss: 0.4084 - val_accuracy: 0.9138\n",
            "Epoch 29/30\n",
            "263/263 [==============================] - 95s 362ms/step - loss: 0.1790 - accuracy: 0.9426 - val_loss: 0.4068 - val_accuracy: 0.9117\n",
            "Epoch 30/30\n",
            "263/263 [==============================] - 90s 342ms/step - loss: 0.1775 - accuracy: 0.9414 - val_loss: 0.4429 - val_accuracy: 0.9095\n"
          ]
        }
      ]
    },
    {
      "cell_type": "markdown",
      "metadata": {
        "id": "PyhUtMy3KDN1"
      },
      "source": [
        "### **Plot the Training and Validation accuracies and write your observations.**"
      ]
    },
    {
      "cell_type": "code",
      "source": [
        "\n",
        "plt.plot(history_cnn_model_2.history['accuracy'])\n",
        "plt.plot(history_cnn_model_2.history['val_accuracy'])\n",
        "plt.title('model accuracy')\n",
        "plt.ylabel('accuracy')\n",
        "plt.xlabel('epoch')\n",
        "plt.legend(['train', 'test'], loc='upper left')\n",
        "plt.show()"
      ],
      "metadata": {
        "id": "SJPAoFCOs1Io",
        "colab": {
          "base_uri": "https://localhost:8080/",
          "height": 472
        },
        "outputId": "d7b32d97-1839-4afe-ae96-f3ab0650d405"
      },
      "execution_count": 54,
      "outputs": [
        {
          "output_type": "display_data",
          "data": {
            "text/plain": [
              "<Figure size 640x480 with 1 Axes>"
            ],
            "image/png": "[encoded data removed]"
          },
          "metadata": {}
        }
      ]
    },
    {
      "cell_type": "code",
      "execution_count": 55,
      "metadata": {
        "id": "YVQu7uWiAjQH",
        "colab": {
          "base_uri": "https://localhost:8080/",
          "height": 472
        },
        "outputId": "7e475787-bd6c-44cc-d573-bd15dbbdf9c3"
      },
      "outputs": [
        {
          "output_type": "display_data",
          "data": {
            "text/plain": [
              "<Figure size 640x480 with 1 Axes>"
            ],
            "image/png": "[encoded data removed]"
          },
          "metadata": {}
        }
      ],
      "source": [
        "plt.plot(history_cnn_model_2.history['loss'])\n",
        "plt.plot(history_cnn_model_2    .history['val_loss'])\n",
        "plt.title('model loss')\n",
        "plt.ylabel('loss')\n",
        "plt.xlabel('epoch')\n",
        "plt.legend(['train', 'test'], loc='upper left')\n",
        "plt.show()"
      ]
    },
    {
      "cell_type": "markdown",
      "metadata": {
        "id": "Qrrt0Ac3AjQH"
      },
      "source": [
        "**Observations:**\n",
        "\n",
        "From the accuracy plot above, it's obvious that model has reached the saturation point after 2 epochs, there is no significant improvement after 2 epochs.\n",
        "\n",
        "From the model loss plot, we can see that as the number of epochs were increasing, the model's loss is gradually decresing."
      ]
    },
    {
      "cell_type": "markdown",
      "metadata": {
        "id": "kja4SnOdAjQI"
      },
      "source": [
        "## **Predictions on the test data**\n",
        "\n",
        "- Make predictions on the test set using the second model.\n",
        "- Print the obtained results using the classification report and the confusion matrix.\n",
        "- Final observations on the obtained results."
      ]
    },
    {
      "cell_type": "markdown",
      "metadata": {
        "id": "eHCRwRbgKDN2"
      },
      "source": [
        "### **Make predictions on the test data using the second model.** "
      ]
    },
    {
      "cell_type": "code",
      "execution_count": 56,
      "metadata": {
        "id": "f1d-VvaLAjQI",
        "colab": {
          "base_uri": "https://localhost:8080/"
        },
        "outputId": "af1fa7d0-e4b9-4771-a77a-3916212b9010"
      },
      "outputs": [
        {
          "output_type": "stream",
          "name": "stdout",
          "text": [
            "563/563 [==============================] - 13s 22ms/step\n"
          ]
        }
      ],
      "source": [
        "# Make prediction on the test data using model_2 \n",
        "\n",
        "test_pred = cnn_model_2.predict(X_test)\n",
        "\n",
        "test_pred = np.argmax(test_pred, axis = -1)\n"
      ]
    },
    {
      "cell_type": "markdown",
      "metadata": {
        "id": "DrV1tOG0AjQI"
      },
      "source": [
        "**Note:** Earlier, we noticed that each entry of the target variable is a one-hot encoded vector, but to print the classification report and confusion matrix, we must convert each entry of y_test to a single label."
      ]
    },
    {
      "cell_type": "markdown",
      "source": [],
      "metadata": {
        "id": "u-gqeg1SB3Zy"
      }
    },
    {
      "cell_type": "code",
      "source": [
        "# Converting each entry to single label from one-hot encoded vector\n",
        "\n",
        "y_test = np.argmax(y_test, axis = -1)"
      ],
      "metadata": {
        "id": "rGqLnZZxsj0d"
      },
      "execution_count": null,
      "outputs": []
    },
    {
      "cell_type": "code",
      "execution_count": null,
      "metadata": {
        "id": "dUSHU9W0AjQI"
      },
      "outputs": [],
      "source": [
        "## Potting Confusion matix\n",
        "from sklearn.metrics import classification_report\n",
        "\n",
        "from sklearn.metrics import confusion_matrix\n",
        "\n",
        "# Printing the classification report\n",
        "\n",
        "print(classification_report(y_test, test_pred))\n",
        "\n",
        "# Plotting the heatmap using confusion matrix\n",
        "\n",
        "cm = confusion_matrix(y_test, test_pred)\n",
        "\n",
        "plt.figure(figsize = (8, 5))\n",
        "\n",
        "sns.heatmap(cm, annot = True,  fmt = '.0f')\n",
        "\n",
        "plt.ylabel('Actual')\n",
        "\n",
        "plt.xlabel('Predicted')\n",
        "\n",
        "plt.show()"
      ]
    },
    {
      "cell_type": "markdown",
      "metadata": {
        "id": "aVCa-ysWKDN3"
      },
      "source": [
        "### **Write your final observations on the performance of the model on the test data.**"
      ]
    },
    {
      "cell_type": "markdown",
      "metadata": {
        "id": "TNN9v713AjQJ"
      },
      "source": [
        "**Final Observations:**\n",
        "\n",
        "\n",
        "1.   Compared to the ANN, CNN's performance is better, CNN has low misclassification rate. CNN holds accuracy of 92% where as the ANN has 66%. \n",
        "\n",
        "2. CNN classiefied almost every digit correctly, unlike ANN where it's able to classify few digits correctly, but miscalssified complex structured digits\n",
        "\n",
        "\n",
        "3. The amount of time to train CNN is pretty high compared to that 0f ANN. it is due to it's complex structure.\n",
        "\n",
        "4. In recognizing digits, CNN has better overall performace comapred to ANN.\n",
        "\n",
        "5. The model reached it's saturation point after 3 epochs, there is no significant imporovement in accuracy after 3 epochs"
      ]
    },
    {
      "cell_type": "code",
      "source": [],
      "metadata": {
        "id": "UxGyG99K_DKL"
      },
      "execution_count": null,
      "outputs": []
    }
  ],
  "metadata": {
    "accelerator": "TPU",
    "colab": {
      "provenance": []
    },
    "kernelspec": {
      "display_name": "Python 3 (ipykernel)",
      "language": "python",
      "name": "python3"
    },
    "language_info": {
      "codemirror_mode": {
        "name": "ipython",
        "version": 3
      },
      "file_extension": ".py",
      "mimetype": "text/x-python",
      "name": "python",
      "nbconvert_exporter": "python",
      "pygments_lexer": "ipython3",
      "version": "3.9.7"
    }
  },
  "nbformat": 4,
  "nbformat_minor": 0
}